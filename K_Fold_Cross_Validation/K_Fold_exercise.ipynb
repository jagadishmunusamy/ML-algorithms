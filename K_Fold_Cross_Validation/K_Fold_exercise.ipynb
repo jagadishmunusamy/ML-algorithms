{
 "cells": [
  {
   "cell_type": "markdown",
   "id": "5e6f9f80-e8f2-49de-b4cb-9a362f70234f",
   "metadata": {},
   "source": [
    "iris dataset use LR, RF, SVM, DT find best ML algorithm using K_Fold_cross_validation"
   ]
  },
  {
   "cell_type": "code",
   "execution_count": 39,
   "id": "5249870c-0403-4225-b403-c88f81405db9",
   "metadata": {},
   "outputs": [],
   "source": [
    "from sklearn.model_selection import StratifiedKFold\n",
    "from sklearn.model_selection import cross_val_score\n",
    "from sklearn.linear_model import LogisticRegression\n",
    "from sklearn.tree import DecisionTreeClassifier\n",
    "from sklearn.svm import SVC\n",
    "from sklearn.ensemble import RandomForestClassifier\n",
    "#import numpy as np"
   ]
  },
  {
   "cell_type": "code",
   "execution_count": 40,
   "id": "d889adb7-5561-4460-b10b-f508105b6a6e",
   "metadata": {},
   "outputs": [
    {
     "data": {
      "text/plain": [
       "['DESCR',\n",
       " 'data',\n",
       " 'data_module',\n",
       " 'feature_names',\n",
       " 'filename',\n",
       " 'frame',\n",
       " 'target',\n",
       " 'target_names']"
      ]
     },
     "execution_count": 40,
     "metadata": {},
     "output_type": "execute_result"
    }
   ],
   "source": [
    "from sklearn.datasets import load_iris\n",
    "iris = load_iris()\n",
    "dir(iris)"
   ]
  },
  {
   "cell_type": "code",
   "execution_count": 44,
   "id": "0df0a8b1-8875-4bf2-9fb0-1a39efcace3b",
   "metadata": {},
   "outputs": [
    {
     "name": "stderr",
     "output_type": "stream",
     "text": [
      "C:\\Users\\kisho\\AppData\\Local\\Programs\\Python\\Python311\\Lib\\site-packages\\sklearn\\linear_model\\_logistic.py:465: ConvergenceWarning: lbfgs failed to converge (status=1):\n",
      "STOP: TOTAL NO. of ITERATIONS REACHED LIMIT.\n",
      "\n",
      "Increase the number of iterations (max_iter) or scale the data as shown in:\n",
      "    https://scikit-learn.org/stable/modules/preprocessing.html\n",
      "Please also refer to the documentation for alternative solver options:\n",
      "    https://scikit-learn.org/stable/modules/linear_model.html#logistic-regression\n",
      "  n_iter_i = _check_optimize_result(\n"
     ]
    },
    {
     "data": {
      "text/plain": [
       "array([0.96666667, 1.        , 0.93333333, 0.96666667, 1.        ])"
      ]
     },
     "execution_count": 44,
     "metadata": {},
     "output_type": "execute_result"
    }
   ],
   "source": [
    "LR = cross_val_score(LogisticRegression(), iris.data, iris.target)\n",
    "LR"
   ]
  },
  {
   "cell_type": "code",
   "execution_count": 49,
   "id": "f4a42903-95dd-4be2-be11-0fa5077c9900",
   "metadata": {},
   "outputs": [
    {
     "data": {
      "text/plain": [
       "np.float64(0.9733333333333334)"
      ]
     },
     "execution_count": 49,
     "metadata": {},
     "output_type": "execute_result"
    }
   ],
   "source": [
    "LR.mean()"
   ]
  },
  {
   "cell_type": "code",
   "execution_count": 45,
   "id": "1b6b9677-b3ae-4935-b248-c4a84f013fb2",
   "metadata": {},
   "outputs": [
    {
     "data": {
      "text/plain": [
       "array([0.96666667, 0.96666667, 0.9       , 1.        , 1.        ])"
      ]
     },
     "execution_count": 45,
     "metadata": {},
     "output_type": "execute_result"
    }
   ],
   "source": [
    "DTC = cross_val_score(DecisionTreeClassifier(), iris.data, iris.target)\n",
    "DTC"
   ]
  },
  {
   "cell_type": "code",
   "execution_count": 50,
   "id": "aaccdcc7-0254-4eb5-810d-a6cef21678e1",
   "metadata": {},
   "outputs": [
    {
     "data": {
      "text/plain": [
       "np.float64(0.9666666666666668)"
      ]
     },
     "execution_count": 50,
     "metadata": {},
     "output_type": "execute_result"
    }
   ],
   "source": [
    "DTC.mean()"
   ]
  },
  {
   "cell_type": "code",
   "execution_count": 46,
   "id": "894b685c-cfa4-496c-9da8-07d3332faa91",
   "metadata": {},
   "outputs": [
    {
     "data": {
      "text/plain": [
       "array([0.96666667, 0.96666667, 0.96666667, 0.93333333, 1.        ])"
      ]
     },
     "execution_count": 46,
     "metadata": {},
     "output_type": "execute_result"
    }
   ],
   "source": [
    "SVC = cross_val_score(SVC(), iris.data, iris.target)\n",
    "SVC"
   ]
  },
  {
   "cell_type": "code",
   "execution_count": 51,
   "id": "86d21db4-cfac-45cf-93d2-c8ef2d8cfd2e",
   "metadata": {},
   "outputs": [
    {
     "data": {
      "text/plain": [
       "np.float64(0.9666666666666666)"
      ]
     },
     "execution_count": 51,
     "metadata": {},
     "output_type": "execute_result"
    }
   ],
   "source": [
    "SVC.mean()"
   ]
  },
  {
   "cell_type": "code",
   "execution_count": 47,
   "id": "a2f30ff3-c95a-4151-9f0a-dcc9e8bd2902",
   "metadata": {},
   "outputs": [
    {
     "data": {
      "text/plain": [
       "array([0.96666667, 0.96666667, 0.93333333, 0.96666667, 1.        ])"
      ]
     },
     "execution_count": 47,
     "metadata": {},
     "output_type": "execute_result"
    }
   ],
   "source": [
    "RFC = cross_val_score(RandomForestClassifier(), iris.data, iris.target)\n",
    "RFC"
   ]
  },
  {
   "cell_type": "code",
   "execution_count": 52,
   "id": "7181d11a-4a87-487b-a5cf-2a8a226249cd",
   "metadata": {},
   "outputs": [
    {
     "data": {
      "text/plain": [
       "np.float64(0.9666666666666668)"
      ]
     },
     "execution_count": 52,
     "metadata": {},
     "output_type": "execute_result"
    }
   ],
   "source": [
    "RFC.mean()"
   ]
  },
  {
   "cell_type": "code",
   "execution_count": null,
   "id": "88ad81ff-0961-4052-9552-9b38dd269667",
   "metadata": {},
   "outputs": [],
   "source": []
  }
 ],
 "metadata": {
  "kernelspec": {
   "display_name": "Python 3 (ipykernel)",
   "language": "python",
   "name": "python3"
  },
  "language_info": {
   "codemirror_mode": {
    "name": "ipython",
    "version": 3
   },
   "file_extension": ".py",
   "mimetype": "text/x-python",
   "name": "python",
   "nbconvert_exporter": "python",
   "pygments_lexer": "ipython3",
   "version": "3.11.4"
  }
 },
 "nbformat": 4,
 "nbformat_minor": 5
}
